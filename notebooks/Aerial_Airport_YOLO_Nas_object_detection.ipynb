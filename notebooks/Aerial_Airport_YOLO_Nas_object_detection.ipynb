{
  "nbformat": 4,
  "nbformat_minor": 0,
  "metadata": {
    "colab": {
      "provenance": [],
      "collapsed_sections": [
        "YuwxThhHWMgH"
      ]
    },
    "kernelspec": {
      "name": "python3",
      "display_name": "Python 3"
    },
    "language_info": {
      "name": "python"
    }
  },
  "cells": [
    {
      "cell_type": "code",
      "execution_count": null,
      "metadata": {
        "id": "hyY9GKoUvduy"
      },
      "outputs": [],
      "source": [
        "!pip install -q supervision super_gradients gradio gdown"
      ]
    },
    {
      "cell_type": "markdown",
      "source": [
        "### **Restart your Runtime**"
      ],
      "metadata": {
        "id": "ZvAcZZRhWgYs"
      }
    },
    {
      "cell_type": "markdown",
      "source": [
        "# gradio APP"
      ],
      "metadata": {
        "id": "nnYSXkteWHdh"
      }
    },
    {
      "cell_type": "code",
      "source": [
        "import gdown\n",
        "\n",
        "def download_file_from_google_drive(file_id, output_file):\n",
        "    \"\"\"\n",
        "    Download a file from Google Drive.\n",
        "\n",
        "    :param file_id: The Google Drive file ID.\n",
        "    :param output_file: The name of the file to save.\n",
        "    \"\"\"\n",
        "    url = f\"https://drive.google.com/uc?id={file_id}\"\n",
        "    gdown.download(url, output_file, quiet=False)\n",
        "\n",
        "# Example usage:\n",
        "file_id = \"1Wgh9dWT6SbakJhvuNkSaIa1ydFtkfUW6\"\n",
        "out = \"average_model.pth\"\n",
        "download_file_from_google_drive(file_id,out)"
      ],
      "metadata": {
        "colab": {
          "base_uri": "https://localhost:8080/"
        },
        "id": "KvluAMxMPe10",
        "outputId": "dfbefb3c-d0e1-440c-d2d6-f84cac392a33"
      },
      "execution_count": 1,
      "outputs": [
        {
          "output_type": "stream",
          "name": "stderr",
          "text": [
            "Downloading...\n",
            "From: https://drive.google.com/uc?id=1Wgh9dWT6SbakJhvuNkSaIa1ydFtkfUW6\n",
            "To: /content/average_model.pth\n",
            "100%|██████████| 893M/893M [00:09<00:00, 90.0MB/s]\n"
          ]
        }
      ]
    },
    {
      "cell_type": "code",
      "source": [
        "from super_gradients.training import models\n",
        "import torch\n",
        "import supervision as sv\n",
        "import gradio as gr\n",
        "\n",
        "DEVICE = 'cuda' if torch.cuda.is_available() else \"cpu\"\n",
        "MODEL_ARCH = 'yolo_nas_l'\n",
        "clasess = [\"Airplane\"]\n",
        "checkpoint_path= \"average_model.pth\"\n",
        "\n",
        "\n",
        "def run(image , CONFIDENCE_TRESHOLD) :\n",
        "  best_model = models.get(\n",
        "      MODEL_ARCH,\n",
        "      num_classes=len(clasess),\n",
        "      checkpoint_path= checkpoint_path\n",
        "  ).to(DEVICE)\n",
        "  result = list(best_model.predict(image, conf=CONFIDENCE_TRESHOLD))[0]\n",
        "  detections = sv.Detections(\n",
        "          xyxy=result.prediction.bboxes_xyxy,\n",
        "          confidence=result.prediction.confidence,\n",
        "          class_id=result.prediction.labels.astype(int)\n",
        "      )\n",
        "  box_annotator = sv.BoxAnnotator()\n",
        "  annotated_frame = box_annotator.annotate(\n",
        "      scene=image.copy(),\n",
        "      detections=detections,\n",
        "      labels=clasess\n",
        "  )\n",
        "  return annotated_frame"
      ],
      "metadata": {
        "id": "jPhmF2-kww1n"
      },
      "execution_count": 4,
      "outputs": []
    },
    {
      "cell_type": "code",
      "source": [
        "iface = gr.Interface(\n",
        "    fn=run,\n",
        "    inputs=[gr.Image(label=\"Input image\", type=\"numpy\") , gr.Slider(0, 1, value=0.5, label=\"Select your CONFIDENCE_TRESHOLD\")],\n",
        "    outputs=gr.Image(label=\"The Prediction Output :\", type=\"numpy\"),\n",
        "    title=\"Aerial Airport YOLO Nas object detection\",\n",
        "    allow_flagging=False ,\n",
        "    description=\"I conducted fine-tuning on the YOLO-NAS (YOLO Neural Architecture Search) model, a cutting-edge object detection architecture developed by Deci-AI. My objective was to enhance its ability to detect airplanes in the 'Aerial Airport' dataset\",\n",
        ")\n",
        "iface.launch(share=True , debug=True)"
      ],
      "metadata": {
        "id": "pXxmuvDK-Aw3"
      },
      "execution_count": null,
      "outputs": []
    },
    {
      "cell_type": "markdown",
      "source": [
        "# simple way"
      ],
      "metadata": {
        "id": "YuwxThhHWMgH"
      }
    },
    {
      "cell_type": "code",
      "source": [
        "import super_gradients\n",
        "import torch\n",
        "from super_gradients.training import models\n",
        "DEVICE = 'cuda' if torch.cuda.is_available() else \"cpu\"\n",
        "MODEL_ARCH = 'yolo_nas_l'\n",
        "CONFIDENCE_TRESHOLD = 0.5\n",
        "clasess = [\"Airplane\"]\n",
        "\n",
        "image = \"/content/1.jpg\"\n",
        "best_model = models.get(\n",
        "    MODEL_ARCH,\n",
        "    num_classes=len(clasess),\n",
        "    checkpoint_path= \"average_model.pth\"\n",
        ").to(DEVICE)\n",
        "\n",
        "best_model.predict(image, conf=CONFIDENCE_TRESHOLD).show()"
      ],
      "metadata": {
        "id": "tu14H-9G7YKa"
      },
      "execution_count": null,
      "outputs": []
    }
  ]
}